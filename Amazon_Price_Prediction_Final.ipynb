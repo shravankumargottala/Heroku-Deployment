{
 "cells": [
  {
   "cell_type": "code",
   "execution_count": 1,
   "metadata": {},
   "outputs": [],
   "source": [
    "import pandas as pd\n",
    "import numpy as np\n",
    "import matplotlib.pyplot as plt\n",
    "import seaborn as sns "
   ]
  },
  {
   "cell_type": "code",
   "execution_count": 2,
   "metadata": {},
   "outputs": [],
   "source": [
    "df = pd.read_csv('Laptop_Price_Final_Oct12.csv')"
   ]
  },
  {
   "cell_type": "code",
   "execution_count": 3,
   "metadata": {},
   "outputs": [],
   "source": [
    "#df_2.loc[:,'Operating System'] = df_2.loc[:,'Operating System'].replace('win10','Windows 10')\n",
    "Laptop_replace_values = {'HP':0, 'Lenovo':1, 'Dell':2, 'Asus':3}\n",
    "df['Laptop Name'] = df['Laptop Name'].map(Laptop_replace_values)\n",
    "\n",
    "processor_type_replace_values = {'Core i3':0, 'Core i3-5005U':1,'Core i3 7100U':2, \n",
    "                                 'Core i3 8130U':3,'Core i5':4, 'Core i5 6200U':5,'Core i5 7200U':6,\n",
    "                                 'Core i5 8250U':7,'Core i5 8300H':8,'Core i7':9}\n",
    "df['Processor Type'] = df['Processor Type'].map(processor_type_replace_values)\n",
    "\n",
    "processor_brand_replace_values = {'Intel':0}\n",
    "df['Processor Brand'] = df['Processor Brand'].map(processor_brand_replace_values)\n",
    "\n",
    "replace_values = {'Windows 10 Home':'Windows 10, Home',\n",
    "                  'DOS':'DOS','Windows 10':'Windows 10',\n",
    "                  'Windows 10 Home Single Language 64':'Windows 10, Home',\n",
    "                  'Windows 10, Home':'Windows 10, Home',\n",
    "                  'Windows 10 Home High End IN App AFO':'Windows 10, Home High End',\n",
    "                  'Linux':'Linux','windows 10 Home':'Windows 10, Home',\n",
    "                 'Win 10':'Windows 10','Windows 10 (64bit)':'Windows 10'}\n",
    "df['Operating System'] = df['Operating System'].map(replace_values)\n",
    "os_rplace_values = {'Windows 10':0, 'Windows 10, Home':1, \n",
    "       'Windows 10, Home High End':2, 'DOS':3,'Linux':4}\n",
    "df['Operating System'] = df['Operating System'].map(os_rplace_values)\n",
    "\n",
    "mem_tech_replace_values = {'DDR3':0,'DDR3L':1,'DDR4':2, 'DDR4, Optane':3}\n",
    "df['Memory Technology'] = df['Memory Technology'].map(mem_tech_replace_values)"
   ]
  },
  {
   "cell_type": "code",
   "execution_count": 4,
   "metadata": {},
   "outputs": [],
   "source": [
    "X = df.iloc[:,:10]\n",
    "y = df.iloc[:,-1]"
   ]
  },
  {
   "cell_type": "code",
   "execution_count": 5,
   "metadata": {},
   "outputs": [],
   "source": [
    "from sklearn.ensemble import RandomForestRegressor\n",
    "clf = RandomForestRegressor(bootstrap=True, criterion='mse', max_depth=None,\n",
    "           max_features='auto', max_leaf_nodes=None,\n",
    "           min_impurity_decrease=0.0, min_impurity_split=None,\n",
    "           min_samples_leaf=1, min_samples_split=2,\n",
    "           min_weight_fraction_leaf=0.0, n_estimators=10, n_jobs=2,\n",
    "           oob_score=False, random_state=3, verbose=0, warm_start=False)"
   ]
  },
  {
   "cell_type": "code",
   "execution_count": 6,
   "metadata": {},
   "outputs": [
    {
     "data": {
      "text/plain": [
       "RandomForestRegressor(bootstrap=True, criterion='mse', max_depth=None,\n",
       "           max_features='auto', max_leaf_nodes=None,\n",
       "           min_impurity_decrease=0.0, min_impurity_split=None,\n",
       "           min_samples_leaf=1, min_samples_split=2,\n",
       "           min_weight_fraction_leaf=0.0, n_estimators=10, n_jobs=2,\n",
       "           oob_score=False, random_state=3, verbose=0, warm_start=False)"
      ]
     },
     "execution_count": 6,
     "metadata": {},
     "output_type": "execute_result"
    }
   ],
   "source": [
    "clf.fit(X,y)"
   ]
  },
  {
   "cell_type": "code",
   "execution_count": 7,
   "metadata": {},
   "outputs": [],
   "source": [
    "import pickle\n",
    "pickle.dump(clf, open('model.pkl','wb'))\n",
    "model = pickle.load(open('model.pkl','rb'))"
   ]
  },
  {
   "cell_type": "code",
   "execution_count": null,
   "metadata": {},
   "outputs": [],
   "source": []
  }
 ],
 "metadata": {
  "kernelspec": {
   "display_name": "Python 3",
   "language": "python",
   "name": "python3"
  },
  "language_info": {
   "codemirror_mode": {
    "name": "ipython",
    "version": 3
   },
   "file_extension": ".py",
   "mimetype": "text/x-python",
   "name": "python",
   "nbconvert_exporter": "python",
   "pygments_lexer": "ipython3",
   "version": "3.7.3"
  }
 },
 "nbformat": 4,
 "nbformat_minor": 2
}
